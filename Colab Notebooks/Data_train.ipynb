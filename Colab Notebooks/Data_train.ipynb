{
  "nbformat": 4,
  "nbformat_minor": 0,
  "metadata": {
    "colab": {
      "provenance": [],
      "authorship_tag": "ABX9TyNSLjnYEIMwVbLWi5Vp4ESN",
      "include_colab_link": true
    },
    "kernelspec": {
      "name": "python3",
      "display_name": "Python 3"
    },
    "language_info": {
      "name": "python"
    }
  },
  "cells": [
    {
      "cell_type": "markdown",
      "metadata": {
        "id": "view-in-github",
        "colab_type": "text"
      },
      "source": [
        "<a href=\"https://colab.research.google.com/github/LuisGDP1711/PDSeI_Deteccion_Peso_Cuyes/blob/PyTorch/Colab%20Notebooks/Data_train.ipynb\" target=\"_parent\"><img src=\"https://colab.research.google.com/assets/colab-badge.svg\" alt=\"Open In Colab\"/></a>"
      ]
    },
    {
      "cell_type": "markdown",
      "source": [
        "## Data Train"
      ],
      "metadata": {
        "id": "LAhlyKGrP2Q_"
      }
    },
    {
      "cell_type": "markdown",
      "source": [
        "Montar Google Drive"
      ],
      "metadata": {
        "id": "1Z-quEfbQACi"
      }
    },
    {
      "cell_type": "code",
      "execution_count": null,
      "metadata": {
        "colab": {
          "base_uri": "https://localhost:8080/"
        },
        "id": "Pdvz5UsGPm59",
        "outputId": "6d272b77-50ae-4da7-d044-7e7e50b03e9f"
      },
      "outputs": [
        {
          "output_type": "stream",
          "name": "stdout",
          "text": [
            "Mounted at /content/drive\n"
          ]
        }
      ],
      "source": [
        "from google.colab import drive\n",
        "drive.mount('/content/drive')"
      ]
    },
    {
      "cell_type": "markdown",
      "source": [
        "Importar librerias"
      ],
      "metadata": {
        "id": "x7UZ8NKaP0u6"
      }
    },
    {
      "cell_type": "code",
      "source": [
        "import os\n",
        "import shutil\n",
        "import cv2\n",
        "from google.colab.patches import cv2_imshow"
      ],
      "metadata": {
        "id": "5XwZGR5MQb4S"
      },
      "execution_count": null,
      "outputs": []
    },
    {
      "cell_type": "markdown",
      "source": [
        "Rutas de archivos"
      ],
      "metadata": {
        "id": "h7wZpammSKrC"
      }
    },
    {
      "cell_type": "code",
      "source": [
        "# Rutas de las carpetas de origen en Google Drive\n",
        "carpeta_origen1 = \"/content/drive/MyDrive/IMAG_CUYES/train\"\n",
        "carpeta_origen2 = \"/content/drive/MyDrive/IMAG_CUYES/AUGMENTATION/BLUR_TRAIN\"\n",
        "carpeta_origen3 = \"/content/drive/MyDrive/IMAG_CUYES/AUGMENTATION/ROT_TRAIN\"\n",
        "\n",
        "# Rutas de los archivos txt\n",
        "txt_origen1 = \"/content/drive/MyDrive/IMAG_CUYES/weights_train.txt\"\n",
        "txt_origen2 = \"/content/drive/MyDrive/IMAG_CUYES/AUGMENTATION/BLUR_weights_train.txt\"\n",
        "txt_origen3 = \"/content/drive/MyDrive/IMAG_CUYES/AUGMENTATION/ROT_weights_train.txt\"\n",
        "\n",
        "# Ruta de la carpeta y archivo combinados\n",
        "carpeta_destino = \"/content/drive/MyDrive/IMAG_CUYES/train_augmentation\"\n",
        "txt_destino = \"/content/drive/MyDrive/IMAG_CUYES/weights_train_augmentation.txt\"\n",
        "\n",
        "# Crear la nueva carpeta si no existe\n",
        "os.makedirs(carpeta_destino, exist_ok=True)\n",
        "\n",
        "# Crear archivos txt si no existen\n",
        "with open(txt_destino, 'w') as file:\n",
        "    pass"
      ],
      "metadata": {
        "id": "dZVx-HfDSK-d"
      },
      "execution_count": null,
      "outputs": []
    },
    {
      "cell_type": "markdown",
      "source": [
        "## Funcion de copiar las imagenes de las carpetas"
      ],
      "metadata": {
        "id": "84C34WoiULRL"
      }
    },
    {
      "cell_type": "code",
      "source": [
        "# Función para copiar imágenes y evitar conflictos de nombres\n",
        "def copiar_imagenes(carpeta_origen, carpeta_destino):\n",
        "    for archivo in os.listdir(carpeta_origen):\n",
        "        origen = os.path.join(carpeta_origen, archivo)\n",
        "        destino = os.path.join(carpeta_destino, archivo)\n",
        "\n",
        "        if os.path.isfile(origen):\n",
        "            # Renombrar si hay conflicto\n",
        "            contador = 1\n",
        "            while os.path.exists(destino):\n",
        "                base, extension = os.path.splitext(archivo)\n",
        "                archivo = f\"{base}_{contador}{extension}\"\n",
        "                destino = os.path.join(carpeta_destino, archivo)\n",
        "                contador += 1\n",
        "\n",
        "            shutil.copy(origen, destino)"
      ],
      "metadata": {
        "id": "0n22X9YCULhX"
      },
      "execution_count": null,
      "outputs": []
    },
    {
      "cell_type": "markdown",
      "source": [
        "## Copiar imagenes en una sola carpeta"
      ],
      "metadata": {
        "id": "qlJH2ETJUgne"
      }
    },
    {
      "cell_type": "code",
      "source": [
        "# Copiar imágenes de ambas carpetas\n",
        "copiar_imagenes(carpeta_origen1, carpeta_destino)\n",
        "copiar_imagenes(carpeta_origen2, carpeta_destino)\n",
        "copiar_imagenes(carpeta_origen3, carpeta_destino)\n",
        "\n",
        "print(\"Proceso completado: las imágenes se han combinado.\")"
      ],
      "metadata": {
        "colab": {
          "base_uri": "https://localhost:8080/"
        },
        "id": "sAmUTU_aUg73",
        "outputId": "498b2bf2-c5a5-4ab4-e958-c645e6768e1a"
      },
      "execution_count": null,
      "outputs": [
        {
          "output_type": "stream",
          "name": "stdout",
          "text": [
            "Proceso completado: las imágenes y los archivos txt se han combinado.\n"
          ]
        }
      ]
    },
    {
      "cell_type": "markdown",
      "source": [
        "## Unir los txt en un solo archivo"
      ],
      "metadata": {
        "id": "qHD30oCBb6Av"
      }
    },
    {
      "cell_type": "code",
      "source": [
        "# Combinar los archivos .txt\n",
        "with open(txt_destino, 'w') as txt_out:\n",
        "    for txt_origen in [txt_origen1, txt_origen2, txt_origen3]:\n",
        "        with open(txt_origen, 'r') as txt_in:\n",
        "            for line in txt_in:\n",
        "                # Asegurar que cada línea termine con un salto de línea\n",
        "                if not line.endswith('\\n'):\n",
        "                    line += '\\n'\n",
        "                txt_out.write(line)\n",
        "\n",
        "print(\"Proceso completado: los archivos txt se han combinado.\")"
      ],
      "metadata": {
        "colab": {
          "base_uri": "https://localhost:8080/"
        },
        "id": "QEhTf6Enb5RL",
        "outputId": "fd953849-cfe9-44cb-a894-22782b89c15d"
      },
      "execution_count": null,
      "outputs": [
        {
          "output_type": "stream",
          "name": "stdout",
          "text": [
            "Proceso completado: los archivos txt se han combinado.\n"
          ]
        }
      ]
    }
  ]
}