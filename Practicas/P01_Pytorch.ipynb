{
  "nbformat": 4,
  "nbformat_minor": 0,
  "metadata": {
    "colab": {
      "provenance": [],
      "gpuType": "T4",
      "include_colab_link": true
    },
    "kernelspec": {
      "name": "python3",
      "display_name": "Python 3"
    },
    "language_info": {
      "name": "python"
    },
    "accelerator": "GPU"
  },
  "cells": [
    {
      "cell_type": "markdown",
      "metadata": {
        "id": "view-in-github",
        "colab_type": "text"
      },
      "source": [
        "<a href=\"https://colab.research.google.com/github/LuisGDP1711/PDSeI_Deteccion_Peso_Cuyes/blob/main/Practicas/P01_Pytorch.ipynb\" target=\"_parent\"><img src=\"https://colab.research.google.com/assets/colab-badge.svg\" alt=\"Open In Colab\"/></a>"
      ]
    },
    {
      "cell_type": "markdown",
      "source": [
        "# Pytorch"
      ],
      "metadata": {
        "id": "u6gJIUnxcmc_"
      }
    },
    {
      "cell_type": "markdown",
      "source": [
        "## Instalaciones"
      ],
      "metadata": {
        "id": "iLxS2Fg2csyA"
      }
    },
    {
      "cell_type": "code",
      "source": [
        "!pip install torch\n",
        "!pip install torchvision"
      ],
      "metadata": {
        "colab": {
          "base_uri": "https://localhost:8080/"
        },
        "id": "bohnpDIEcoT3",
        "outputId": "8642275b-a4dc-4ac9-8ab4-bd8c7fb13772"
      },
      "execution_count": null,
      "outputs": [
        {
          "output_type": "stream",
          "name": "stdout",
          "text": [
            "Requirement already satisfied: torch in /usr/local/lib/python3.10/dist-packages (2.4.1+cu121)\n",
            "Requirement already satisfied: filelock in /usr/local/lib/python3.10/dist-packages (from torch) (3.16.1)\n",
            "Requirement already satisfied: typing-extensions>=4.8.0 in /usr/local/lib/python3.10/dist-packages (from torch) (4.12.2)\n",
            "Requirement already satisfied: sympy in /usr/local/lib/python3.10/dist-packages (from torch) (1.13.3)\n",
            "Requirement already satisfied: networkx in /usr/local/lib/python3.10/dist-packages (from torch) (3.3)\n",
            "Requirement already satisfied: jinja2 in /usr/local/lib/python3.10/dist-packages (from torch) (3.1.4)\n",
            "Requirement already satisfied: fsspec in /usr/local/lib/python3.10/dist-packages (from torch) (2024.6.1)\n",
            "Requirement already satisfied: MarkupSafe>=2.0 in /usr/local/lib/python3.10/dist-packages (from jinja2->torch) (2.1.5)\n",
            "Requirement already satisfied: mpmath<1.4,>=1.1.0 in /usr/local/lib/python3.10/dist-packages (from sympy->torch) (1.3.0)\n",
            "Requirement already satisfied: torchvision in /usr/local/lib/python3.10/dist-packages (0.19.1+cu121)\n",
            "Requirement already satisfied: numpy in /usr/local/lib/python3.10/dist-packages (from torchvision) (1.26.4)\n",
            "Requirement already satisfied: torch==2.4.1 in /usr/local/lib/python3.10/dist-packages (from torchvision) (2.4.1+cu121)\n",
            "Requirement already satisfied: pillow!=8.3.*,>=5.3.0 in /usr/local/lib/python3.10/dist-packages (from torchvision) (10.4.0)\n",
            "Requirement already satisfied: filelock in /usr/local/lib/python3.10/dist-packages (from torch==2.4.1->torchvision) (3.16.1)\n",
            "Requirement already satisfied: typing-extensions>=4.8.0 in /usr/local/lib/python3.10/dist-packages (from torch==2.4.1->torchvision) (4.12.2)\n",
            "Requirement already satisfied: sympy in /usr/local/lib/python3.10/dist-packages (from torch==2.4.1->torchvision) (1.13.3)\n",
            "Requirement already satisfied: networkx in /usr/local/lib/python3.10/dist-packages (from torch==2.4.1->torchvision) (3.3)\n",
            "Requirement already satisfied: jinja2 in /usr/local/lib/python3.10/dist-packages (from torch==2.4.1->torchvision) (3.1.4)\n",
            "Requirement already satisfied: fsspec in /usr/local/lib/python3.10/dist-packages (from torch==2.4.1->torchvision) (2024.6.1)\n",
            "Requirement already satisfied: MarkupSafe>=2.0 in /usr/local/lib/python3.10/dist-packages (from jinja2->torch==2.4.1->torchvision) (2.1.5)\n",
            "Requirement already satisfied: mpmath<1.4,>=1.1.0 in /usr/local/lib/python3.10/dist-packages (from sympy->torch==2.4.1->torchvision) (1.3.0)\n"
          ]
        }
      ]
    },
    {
      "cell_type": "markdown",
      "source": [
        "## Importar dependencias"
      ],
      "metadata": {
        "id": "pwfD0FMAc9j7"
      }
    },
    {
      "cell_type": "code",
      "source": [
        "import torch\n",
        "import torch.nn as nn\n",
        "import torchvision.datasets as dsets\n",
        "import torchvision.transforms as transforms\n",
        "from torch.autograd import Variable"
      ],
      "metadata": {
        "id": "hnDC7-N3c-uS"
      },
      "execution_count": null,
      "outputs": []
    },
    {
      "cell_type": "markdown",
      "source": [
        "## Definir Hiperparámetros"
      ],
      "metadata": {
        "id": "AhnZvU7tdCiq"
      }
    },
    {
      "cell_type": "code",
      "source": [
        "input_size = 784\n",
        "hidden_size = 500\n",
        "hidden_size2 = 400\n",
        "num_classes = 10\n",
        "num_epochs = 25\n",
        "batch_size = 200\n",
        "lr = 1e-3\n"
      ],
      "metadata": {
        "id": "SbX-ss_DdAM5"
      },
      "execution_count": null,
      "outputs": []
    },
    {
      "cell_type": "markdown",
      "source": [
        "## Descargando la base de datos FashionMNIST"
      ],
      "metadata": {
        "id": "Mzqdmt9VdGmq"
      }
    },
    {
      "cell_type": "code",
      "source": [
        "train_data = dsets.FashionMNIST(root = './data', train = True,\n",
        "                        transform = transforms.ToTensor(), download = True)\n",
        "\n",
        "test_data = dsets.FashionMNIST(root = './data', train = False,\n",
        "                       transform = transforms.ToTensor())"
      ],
      "metadata": {
        "id": "0wHSGBu2dHUU"
      },
      "execution_count": null,
      "outputs": []
    },
    {
      "cell_type": "markdown",
      "source": [
        "## Leyendo la data"
      ],
      "metadata": {
        "id": "zq_XDqwndMuU"
      }
    },
    {
      "cell_type": "code",
      "source": [
        "train_gen = torch.utils.data.DataLoader(dataset = train_data,\n",
        "                                             batch_size = batch_size,\n",
        "                                             shuffle = True)\n",
        "\n",
        "test_gen = torch.utils.data.DataLoader(dataset = test_data,\n",
        "                                      batch_size = batch_size,\n",
        "                                      shuffle = False)"
      ],
      "metadata": {
        "id": "ykh8WTYAdNX0"
      },
      "execution_count": null,
      "outputs": []
    },
    {
      "cell_type": "markdown",
      "source": [
        "##Mostrar la base de datos usada"
      ],
      "metadata": {
        "id": "zMLXuOfjd0ky"
      }
    },
    {
      "cell_type": "code",
      "source": [
        "import matplotlib.pyplot as plt # Para graficar las imágenes + categorías\n",
        "figure = plt.figure(figsize=(8, 8))\n",
        "fils, cols = 3, 3\n",
        "\n",
        "for i in range(1, cols * fils + 1):\n",
        "    # Escoger una imagen aleatoria\n",
        "    sample_idx = torch.randint(len(train_data), size=(1,)).item()\n",
        "\n",
        "    # Extraer imagen y categoría\n",
        "    img, label = train_data[sample_idx]\n",
        "\n",
        "    # Dibujar\n",
        "    figure.add_subplot(fils, cols, i)\n",
        "    plt.title(str(label)) # Categoría\n",
        "    plt.axis(\"off\")\n",
        "    plt.imshow(img.squeeze(), cmap=\"gray\") # Imagen\n",
        "plt.show()"
      ],
      "metadata": {
        "colab": {
          "base_uri": "https://localhost:8080/",
          "height": 675
        },
        "id": "Z3YuZcGyd3Nn",
        "outputId": "5d7d837e-6421-40f2-e136-7bf8967d330c"
      },
      "execution_count": null,
      "outputs": [
        {
          "output_type": "display_data",
          "data": {
            "text/plain": [
              "<Figure size 800x800 with 9 Axes>"
            ],
            "image/png": "[encoded data removed]"
          },
          "metadata": {}
        }
      ]
    },
    {
      "cell_type": "markdown",
      "source": [
        "## Definir modelo"
      ],
      "metadata": {
        "id": "1SV1fPdGdQfC"
      }
    },
    {
      "cell_type": "code",
      "source": [
        "class Net(nn.Module):\n",
        "    def __init__(self, input_size, hidden_size, hidden_size2, num_classes):  # Acepta hidden_size2\n",
        "        super().__init__()\n",
        "        self.fc1 = nn.Linear(input_size, hidden_size)\n",
        "        self.relu = nn.ReLU()\n",
        "        self.fc2 = nn.Linear(hidden_size, hidden_size2)  # Capa adicional con hidden_size2\n",
        "        self.relu2 = nn.ReLU()\n",
        "        self.fc3 = nn.Linear(hidden_size2, num_classes)\n",
        "\n",
        "    def forward(self, x):\n",
        "        out = self.fc1(x)\n",
        "        out = self.relu(out)\n",
        "        out = self.fc2(out)\n",
        "        out = self.relu2(out)\n",
        "        out = self.fc3(out)\n",
        "        return out\n"
      ],
      "metadata": {
        "id": "HXS9aWw8dRCi"
      },
      "execution_count": null,
      "outputs": []
    },
    {
      "cell_type": "markdown",
      "source": [
        "##Instancia del modelo"
      ],
      "metadata": {
        "id": "efeG8g_5dT3E"
      }
    },
    {
      "cell_type": "code",
      "source": [
        "net = Net(input_size, hidden_size, hidden_size2, num_classes)\n",
        "\n",
        "if torch.cuda.is_available():\n",
        "    net.cuda()\n"
      ],
      "metadata": {
        "id": "rc23aL2NdV-o"
      },
      "execution_count": null,
      "outputs": []
    },
    {
      "cell_type": "markdown",
      "source": [
        "## Compilación"
      ],
      "metadata": {
        "id": "_aZAywTVdXuZ"
      }
    },
    {
      "cell_type": "code",
      "source": [
        "loss_function = nn.CrossEntropyLoss()\n",
        "optimizer = torch.optim.Adam(net.parameters(), lr=lr)"
      ],
      "metadata": {
        "id": "1nqjtcZLdZ6P"
      },
      "execution_count": null,
      "outputs": []
    },
    {
      "cell_type": "markdown",
      "source": [
        "## Entrenamiento"
      ],
      "metadata": {
        "id": "sERXKv7WddAg"
      }
    },
    {
      "cell_type": "code",
      "source": [
        "for epoch in range(num_epochs):\n",
        "  for i, (images, labels) in enumerate(train_gen):\n",
        "    images = images.view(-1, 28*28).cuda()\n",
        "    labels = labels.cuda()\n",
        "\n",
        "    optimizer.zero_grad()\n",
        "    outputs = net(images)\n",
        "    loss = loss_function(outputs, labels)\n",
        "    loss.backward()\n",
        "    optimizer.step()\n",
        "\n",
        "    if (i + 1) % 100 == 0:\n",
        "        print('Epoca [%d/%d], Step [%d/%d], Loss: %.4f'\n",
        "              % (epoch + 1, num_epochs, i + 1, len(train_data) // batch_size, loss.item()))\n"
      ],
      "metadata": {
        "colab": {
          "base_uri": "https://localhost:8080/"
        },
        "id": "tSqytHckddjI",
        "outputId": "bab27385-d3e5-4081-b0fb-aee114b2b501"
      },
      "execution_count": null,
      "outputs": [
        {
          "output_type": "stream",
          "name": "stdout",
          "text": [
            "Epoca [1/25], Step [100/300], Loss: 0.5694\n",
            "Epoca [1/25], Step [200/300], Loss: 0.3628\n",
            "Epoca [1/25], Step [300/300], Loss: 0.3308\n",
            "Epoca [2/25], Step [100/300], Loss: 0.3543\n",
            "Epoca [2/25], Step [200/300], Loss: 0.3653\n",
            "Epoca [2/25], Step [300/300], Loss: 0.3091\n",
            "Epoca [3/25], Step [100/300], Loss: 0.4229\n",
            "Epoca [3/25], Step [200/300], Loss: 0.3187\n",
            "Epoca [3/25], Step [300/300], Loss: 0.3395\n",
            "Epoca [4/25], Step [100/300], Loss: 0.4103\n",
            "Epoca [4/25], Step [200/300], Loss: 0.2583\n",
            "Epoca [4/25], Step [300/300], Loss: 0.2826\n",
            "Epoca [5/25], Step [100/300], Loss: 0.3304\n",
            "Epoca [5/25], Step [200/300], Loss: 0.2842\n",
            "Epoca [5/25], Step [300/300], Loss: 0.2813\n",
            "Epoca [6/25], Step [100/300], Loss: 0.2481\n",
            "Epoca [6/25], Step [200/300], Loss: 0.2450\n",
            "Epoca [6/25], Step [300/300], Loss: 0.2775\n",
            "Epoca [7/25], Step [100/300], Loss: 0.2238\n",
            "Epoca [7/25], Step [200/300], Loss: 0.2636\n",
            "Epoca [7/25], Step [300/300], Loss: 0.2121\n",
            "Epoca [8/25], Step [100/300], Loss: 0.2425\n",
            "Epoca [8/25], Step [200/300], Loss: 0.2404\n",
            "Epoca [8/25], Step [300/300], Loss: 0.2227\n",
            "Epoca [9/25], Step [100/300], Loss: 0.3686\n",
            "Epoca [9/25], Step [200/300], Loss: 0.1296\n",
            "Epoca [9/25], Step [300/300], Loss: 0.1861\n",
            "Epoca [10/25], Step [100/300], Loss: 0.1994\n",
            "Epoca [10/25], Step [200/300], Loss: 0.2730\n",
            "Epoca [10/25], Step [300/300], Loss: 0.3262\n",
            "Epoca [11/25], Step [100/300], Loss: 0.2378\n",
            "Epoca [11/25], Step [200/300], Loss: 0.2295\n",
            "Epoca [11/25], Step [300/300], Loss: 0.2413\n",
            "Epoca [12/25], Step [100/300], Loss: 0.1275\n",
            "Epoca [12/25], Step [200/300], Loss: 0.1678\n",
            "Epoca [12/25], Step [300/300], Loss: 0.2510\n",
            "Epoca [13/25], Step [100/300], Loss: 0.1263\n",
            "Epoca [13/25], Step [200/300], Loss: 0.2507\n",
            "Epoca [13/25], Step [300/300], Loss: 0.2114\n",
            "Epoca [14/25], Step [100/300], Loss: 0.1951\n",
            "Epoca [14/25], Step [200/300], Loss: 0.1754\n",
            "Epoca [14/25], Step [300/300], Loss: 0.1084\n",
            "Epoca [15/25], Step [100/300], Loss: 0.2705\n",
            "Epoca [15/25], Step [200/300], Loss: 0.1471\n",
            "Epoca [15/25], Step [300/300], Loss: 0.2973\n",
            "Epoca [16/25], Step [100/300], Loss: 0.2048\n",
            "Epoca [16/25], Step [200/300], Loss: 0.2156\n",
            "Epoca [16/25], Step [300/300], Loss: 0.2149\n",
            "Epoca [17/25], Step [100/300], Loss: 0.2216\n",
            "Epoca [17/25], Step [200/300], Loss: 0.1040\n",
            "Epoca [17/25], Step [300/300], Loss: 0.1647\n",
            "Epoca [18/25], Step [100/300], Loss: 0.1257\n",
            "Epoca [18/25], Step [200/300], Loss: 0.2224\n",
            "Epoca [18/25], Step [300/300], Loss: 0.2176\n",
            "Epoca [19/25], Step [100/300], Loss: 0.0600\n",
            "Epoca [19/25], Step [200/300], Loss: 0.1774\n",
            "Epoca [19/25], Step [300/300], Loss: 0.1586\n",
            "Epoca [20/25], Step [100/300], Loss: 0.1805\n",
            "Epoca [20/25], Step [200/300], Loss: 0.1655\n",
            "Epoca [20/25], Step [300/300], Loss: 0.1317\n",
            "Epoca [21/25], Step [100/300], Loss: 0.1467\n",
            "Epoca [21/25], Step [200/300], Loss: 0.1225\n",
            "Epoca [21/25], Step [300/300], Loss: 0.1619\n",
            "Epoca [22/25], Step [100/300], Loss: 0.1332\n",
            "Epoca [22/25], Step [200/300], Loss: 0.1273\n",
            "Epoca [22/25], Step [300/300], Loss: 0.1361\n",
            "Epoca [23/25], Step [100/300], Loss: 0.1625\n",
            "Epoca [23/25], Step [200/300], Loss: 0.1205\n",
            "Epoca [23/25], Step [300/300], Loss: 0.1613\n",
            "Epoca [24/25], Step [100/300], Loss: 0.1276\n",
            "Epoca [24/25], Step [200/300], Loss: 0.0904\n",
            "Epoca [24/25], Step [300/300], Loss: 0.1041\n",
            "Epoca [25/25], Step [100/300], Loss: 0.1179\n",
            "Epoca [25/25], Step [200/300], Loss: 0.0847\n",
            "Epoca [25/25], Step [300/300], Loss: 0.1060\n"
          ]
        }
      ]
    },
    {
      "cell_type": "code",
      "source": [
        "correct = 0\n",
        "total = 0\n",
        "for images, labels in test_gen:\n",
        "    images = images.view(-1, 28*28).cuda()\n",
        "    labels = labels.cuda()\n",
        "\n",
        "    output = net(images)\n",
        "    _, predicted = torch.max(output, 1)\n",
        "    correct += (predicted == labels).sum()\n",
        "    total += labels.size(0)\n",
        "\n",
        "print('Accuracy: %.3f %%' % (100 * correct / (total + 1)))"
      ],
      "metadata": {
        "colab": {
          "base_uri": "https://localhost:8080/"
        },
        "id": "ibqu245IdoXp",
        "outputId": "1d64ffe3-f4b8-4202-9733-45f969e7a5c4"
      },
      "execution_count": null,
      "outputs": [
        {
          "output_type": "stream",
          "name": "stdout",
          "text": [
            "Accuracy: 89.491 %\n"
          ]
        }
      ]
    }
  ]
}